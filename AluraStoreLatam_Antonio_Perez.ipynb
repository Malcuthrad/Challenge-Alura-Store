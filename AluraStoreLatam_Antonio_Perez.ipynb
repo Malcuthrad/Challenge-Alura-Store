{
  "nbformat": 4,
  "nbformat_minor": 0,
  "metadata": {
    "colab": {
      "provenance": [],
      "include_colab_link": true
    },
    "kernelspec": {
      "name": "python3",
      "display_name": "Python 3"
    },
    "language_info": {
      "name": "python"
    }
  },
  "cells": [
    {
      "cell_type": "markdown",
      "metadata": {
        "id": "view-in-github",
        "colab_type": "text"
      },
      "source": [
        "<a href=\"https://colab.research.google.com/github/Malcuthrad/Challenge-Alura-Store/blob/main/AluraStoreLatam_Antonio_Perez.ipynb\" target=\"_parent\"><img src=\"https://colab.research.google.com/assets/colab-badge.svg\" alt=\"Open In Colab\"/></a>"
      ]
    },
    {
      "cell_type": "markdown",
      "source": [
        "### Importación de datos\n",
        "\n"
      ],
      "metadata": {
        "id": "RhEdWd9YUR6H"
      }
    },
    {
      "cell_type": "code",
      "execution_count": 2,
      "metadata": {
        "colab": {
          "base_uri": "https://localhost:8080/",
          "height": 310
        },
        "id": "T3EvaeQ_INIL",
        "outputId": "d34a5096-901c-4959-e5e0-6e587df4144a"
      },
      "outputs": [
        {
          "output_type": "execute_result",
          "data": {
            "text/plain": [
              "            Producto Categoría del Producto    Precio  Costo de envío  \\\n",
              "0  Asistente virtual           Electrónicos  164300.0          6900.0   \n",
              "1    Mesa de comedor                Muebles  192300.0          8400.0   \n",
              "2      Juego de mesa               Juguetes  209600.0         15900.0   \n",
              "3         Microondas      Electrodomésticos  757500.0         41000.0   \n",
              "4   Silla de oficina                Muebles  335200.0         20200.0   \n",
              "\n",
              "  Fecha de Compra         Vendedor Lugar de Compra  Calificación  \\\n",
              "0      16/01/2021      Pedro Gomez          Bogotá             4   \n",
              "1      18/05/2022  Beatriz Morales        Medellín             1   \n",
              "2      15/03/2021   Juan Fernandez       Cartagena             1   \n",
              "3      03/05/2022   Juan Fernandez            Cali             4   \n",
              "4      07/11/2020    Maria Alfonso        Medellín             5   \n",
              "\n",
              "       Método de pago  Cantidad de cuotas       lat       lon  \n",
              "0  Tarjeta de crédito                   8   4.60971 -74.08175  \n",
              "1  Tarjeta de crédito                   4   6.25184 -75.56359  \n",
              "2  Tarjeta de crédito                   1  10.39972 -75.51444  \n",
              "3               Nequi                   1   3.43722 -76.52250  \n",
              "4               Nequi                   1   6.25184 -75.56359  "
            ],
            "text/html": [
              "\n",
              "  <div id=\"df-2908041c-a006-4128-a31c-f329442d0fde\" class=\"colab-df-container\">\n",
              "    <div>\n",
              "<style scoped>\n",
              "    .dataframe tbody tr th:only-of-type {\n",
              "        vertical-align: middle;\n",
              "    }\n",
              "\n",
              "    .dataframe tbody tr th {\n",
              "        vertical-align: top;\n",
              "    }\n",
              "\n",
              "    .dataframe thead th {\n",
              "        text-align: right;\n",
              "    }\n",
              "</style>\n",
              "<table border=\"1\" class=\"dataframe\">\n",
              "  <thead>\n",
              "    <tr style=\"text-align: right;\">\n",
              "      <th></th>\n",
              "      <th>Producto</th>\n",
              "      <th>Categoría del Producto</th>\n",
              "      <th>Precio</th>\n",
              "      <th>Costo de envío</th>\n",
              "      <th>Fecha de Compra</th>\n",
              "      <th>Vendedor</th>\n",
              "      <th>Lugar de Compra</th>\n",
              "      <th>Calificación</th>\n",
              "      <th>Método de pago</th>\n",
              "      <th>Cantidad de cuotas</th>\n",
              "      <th>lat</th>\n",
              "      <th>lon</th>\n",
              "    </tr>\n",
              "  </thead>\n",
              "  <tbody>\n",
              "    <tr>\n",
              "      <th>0</th>\n",
              "      <td>Asistente virtual</td>\n",
              "      <td>Electrónicos</td>\n",
              "      <td>164300.0</td>\n",
              "      <td>6900.0</td>\n",
              "      <td>16/01/2021</td>\n",
              "      <td>Pedro Gomez</td>\n",
              "      <td>Bogotá</td>\n",
              "      <td>4</td>\n",
              "      <td>Tarjeta de crédito</td>\n",
              "      <td>8</td>\n",
              "      <td>4.60971</td>\n",
              "      <td>-74.08175</td>\n",
              "    </tr>\n",
              "    <tr>\n",
              "      <th>1</th>\n",
              "      <td>Mesa de comedor</td>\n",
              "      <td>Muebles</td>\n",
              "      <td>192300.0</td>\n",
              "      <td>8400.0</td>\n",
              "      <td>18/05/2022</td>\n",
              "      <td>Beatriz Morales</td>\n",
              "      <td>Medellín</td>\n",
              "      <td>1</td>\n",
              "      <td>Tarjeta de crédito</td>\n",
              "      <td>4</td>\n",
              "      <td>6.25184</td>\n",
              "      <td>-75.56359</td>\n",
              "    </tr>\n",
              "    <tr>\n",
              "      <th>2</th>\n",
              "      <td>Juego de mesa</td>\n",
              "      <td>Juguetes</td>\n",
              "      <td>209600.0</td>\n",
              "      <td>15900.0</td>\n",
              "      <td>15/03/2021</td>\n",
              "      <td>Juan Fernandez</td>\n",
              "      <td>Cartagena</td>\n",
              "      <td>1</td>\n",
              "      <td>Tarjeta de crédito</td>\n",
              "      <td>1</td>\n",
              "      <td>10.39972</td>\n",
              "      <td>-75.51444</td>\n",
              "    </tr>\n",
              "    <tr>\n",
              "      <th>3</th>\n",
              "      <td>Microondas</td>\n",
              "      <td>Electrodomésticos</td>\n",
              "      <td>757500.0</td>\n",
              "      <td>41000.0</td>\n",
              "      <td>03/05/2022</td>\n",
              "      <td>Juan Fernandez</td>\n",
              "      <td>Cali</td>\n",
              "      <td>4</td>\n",
              "      <td>Nequi</td>\n",
              "      <td>1</td>\n",
              "      <td>3.43722</td>\n",
              "      <td>-76.52250</td>\n",
              "    </tr>\n",
              "    <tr>\n",
              "      <th>4</th>\n",
              "      <td>Silla de oficina</td>\n",
              "      <td>Muebles</td>\n",
              "      <td>335200.0</td>\n",
              "      <td>20200.0</td>\n",
              "      <td>07/11/2020</td>\n",
              "      <td>Maria Alfonso</td>\n",
              "      <td>Medellín</td>\n",
              "      <td>5</td>\n",
              "      <td>Nequi</td>\n",
              "      <td>1</td>\n",
              "      <td>6.25184</td>\n",
              "      <td>-75.56359</td>\n",
              "    </tr>\n",
              "  </tbody>\n",
              "</table>\n",
              "</div>\n",
              "    <div class=\"colab-df-buttons\">\n",
              "\n",
              "  <div class=\"colab-df-container\">\n",
              "    <button class=\"colab-df-convert\" onclick=\"convertToInteractive('df-2908041c-a006-4128-a31c-f329442d0fde')\"\n",
              "            title=\"Convert this dataframe to an interactive table.\"\n",
              "            style=\"display:none;\">\n",
              "\n",
              "  <svg xmlns=\"http://www.w3.org/2000/svg\" height=\"24px\" viewBox=\"0 -960 960 960\">\n",
              "    <path d=\"M120-120v-720h720v720H120Zm60-500h600v-160H180v160Zm220 220h160v-160H400v160Zm0 220h160v-160H400v160ZM180-400h160v-160H180v160Zm440 0h160v-160H620v160ZM180-180h160v-160H180v160Zm440 0h160v-160H620v160Z\"/>\n",
              "  </svg>\n",
              "    </button>\n",
              "\n",
              "  <style>\n",
              "    .colab-df-container {\n",
              "      display:flex;\n",
              "      gap: 12px;\n",
              "    }\n",
              "\n",
              "    .colab-df-convert {\n",
              "      background-color: #E8F0FE;\n",
              "      border: none;\n",
              "      border-radius: 50%;\n",
              "      cursor: pointer;\n",
              "      display: none;\n",
              "      fill: #1967D2;\n",
              "      height: 32px;\n",
              "      padding: 0 0 0 0;\n",
              "      width: 32px;\n",
              "    }\n",
              "\n",
              "    .colab-df-convert:hover {\n",
              "      background-color: #E2EBFA;\n",
              "      box-shadow: 0px 1px 2px rgba(60, 64, 67, 0.3), 0px 1px 3px 1px rgba(60, 64, 67, 0.15);\n",
              "      fill: #174EA6;\n",
              "    }\n",
              "\n",
              "    .colab-df-buttons div {\n",
              "      margin-bottom: 4px;\n",
              "    }\n",
              "\n",
              "    [theme=dark] .colab-df-convert {\n",
              "      background-color: #3B4455;\n",
              "      fill: #D2E3FC;\n",
              "    }\n",
              "\n",
              "    [theme=dark] .colab-df-convert:hover {\n",
              "      background-color: #434B5C;\n",
              "      box-shadow: 0px 1px 3px 1px rgba(0, 0, 0, 0.15);\n",
              "      filter: drop-shadow(0px 1px 2px rgba(0, 0, 0, 0.3));\n",
              "      fill: #FFFFFF;\n",
              "    }\n",
              "  </style>\n",
              "\n",
              "    <script>\n",
              "      const buttonEl =\n",
              "        document.querySelector('#df-2908041c-a006-4128-a31c-f329442d0fde button.colab-df-convert');\n",
              "      buttonEl.style.display =\n",
              "        google.colab.kernel.accessAllowed ? 'block' : 'none';\n",
              "\n",
              "      async function convertToInteractive(key) {\n",
              "        const element = document.querySelector('#df-2908041c-a006-4128-a31c-f329442d0fde');\n",
              "        const dataTable =\n",
              "          await google.colab.kernel.invokeFunction('convertToInteractive',\n",
              "                                                    [key], {});\n",
              "        if (!dataTable) return;\n",
              "\n",
              "        const docLinkHtml = 'Like what you see? Visit the ' +\n",
              "          '<a target=\"_blank\" href=https://colab.research.google.com/notebooks/data_table.ipynb>data table notebook</a>'\n",
              "          + ' to learn more about interactive tables.';\n",
              "        element.innerHTML = '';\n",
              "        dataTable['output_type'] = 'display_data';\n",
              "        await google.colab.output.renderOutput(dataTable, element);\n",
              "        const docLink = document.createElement('div');\n",
              "        docLink.innerHTML = docLinkHtml;\n",
              "        element.appendChild(docLink);\n",
              "      }\n",
              "    </script>\n",
              "  </div>\n",
              "\n",
              "\n",
              "<div id=\"df-a1e95261-abc1-4f7c-a93a-5f16cb564cda\">\n",
              "  <button class=\"colab-df-quickchart\" onclick=\"quickchart('df-a1e95261-abc1-4f7c-a93a-5f16cb564cda')\"\n",
              "            title=\"Suggest charts\"\n",
              "            style=\"display:none;\">\n",
              "\n",
              "<svg xmlns=\"http://www.w3.org/2000/svg\" height=\"24px\"viewBox=\"0 0 24 24\"\n",
              "     width=\"24px\">\n",
              "    <g>\n",
              "        <path d=\"M19 3H5c-1.1 0-2 .9-2 2v14c0 1.1.9 2 2 2h14c1.1 0 2-.9 2-2V5c0-1.1-.9-2-2-2zM9 17H7v-7h2v7zm4 0h-2V7h2v10zm4 0h-2v-4h2v4z\"/>\n",
              "    </g>\n",
              "</svg>\n",
              "  </button>\n",
              "\n",
              "<style>\n",
              "  .colab-df-quickchart {\n",
              "      --bg-color: #E8F0FE;\n",
              "      --fill-color: #1967D2;\n",
              "      --hover-bg-color: #E2EBFA;\n",
              "      --hover-fill-color: #174EA6;\n",
              "      --disabled-fill-color: #AAA;\n",
              "      --disabled-bg-color: #DDD;\n",
              "  }\n",
              "\n",
              "  [theme=dark] .colab-df-quickchart {\n",
              "      --bg-color: #3B4455;\n",
              "      --fill-color: #D2E3FC;\n",
              "      --hover-bg-color: #434B5C;\n",
              "      --hover-fill-color: #FFFFFF;\n",
              "      --disabled-bg-color: #3B4455;\n",
              "      --disabled-fill-color: #666;\n",
              "  }\n",
              "\n",
              "  .colab-df-quickchart {\n",
              "    background-color: var(--bg-color);\n",
              "    border: none;\n",
              "    border-radius: 50%;\n",
              "    cursor: pointer;\n",
              "    display: none;\n",
              "    fill: var(--fill-color);\n",
              "    height: 32px;\n",
              "    padding: 0;\n",
              "    width: 32px;\n",
              "  }\n",
              "\n",
              "  .colab-df-quickchart:hover {\n",
              "    background-color: var(--hover-bg-color);\n",
              "    box-shadow: 0 1px 2px rgba(60, 64, 67, 0.3), 0 1px 3px 1px rgba(60, 64, 67, 0.15);\n",
              "    fill: var(--button-hover-fill-color);\n",
              "  }\n",
              "\n",
              "  .colab-df-quickchart-complete:disabled,\n",
              "  .colab-df-quickchart-complete:disabled:hover {\n",
              "    background-color: var(--disabled-bg-color);\n",
              "    fill: var(--disabled-fill-color);\n",
              "    box-shadow: none;\n",
              "  }\n",
              "\n",
              "  .colab-df-spinner {\n",
              "    border: 2px solid var(--fill-color);\n",
              "    border-color: transparent;\n",
              "    border-bottom-color: var(--fill-color);\n",
              "    animation:\n",
              "      spin 1s steps(1) infinite;\n",
              "  }\n",
              "\n",
              "  @keyframes spin {\n",
              "    0% {\n",
              "      border-color: transparent;\n",
              "      border-bottom-color: var(--fill-color);\n",
              "      border-left-color: var(--fill-color);\n",
              "    }\n",
              "    20% {\n",
              "      border-color: transparent;\n",
              "      border-left-color: var(--fill-color);\n",
              "      border-top-color: var(--fill-color);\n",
              "    }\n",
              "    30% {\n",
              "      border-color: transparent;\n",
              "      border-left-color: var(--fill-color);\n",
              "      border-top-color: var(--fill-color);\n",
              "      border-right-color: var(--fill-color);\n",
              "    }\n",
              "    40% {\n",
              "      border-color: transparent;\n",
              "      border-right-color: var(--fill-color);\n",
              "      border-top-color: var(--fill-color);\n",
              "    }\n",
              "    60% {\n",
              "      border-color: transparent;\n",
              "      border-right-color: var(--fill-color);\n",
              "    }\n",
              "    80% {\n",
              "      border-color: transparent;\n",
              "      border-right-color: var(--fill-color);\n",
              "      border-bottom-color: var(--fill-color);\n",
              "    }\n",
              "    90% {\n",
              "      border-color: transparent;\n",
              "      border-bottom-color: var(--fill-color);\n",
              "    }\n",
              "  }\n",
              "</style>\n",
              "\n",
              "  <script>\n",
              "    async function quickchart(key) {\n",
              "      const quickchartButtonEl =\n",
              "        document.querySelector('#' + key + ' button');\n",
              "      quickchartButtonEl.disabled = true;  // To prevent multiple clicks.\n",
              "      quickchartButtonEl.classList.add('colab-df-spinner');\n",
              "      try {\n",
              "        const charts = await google.colab.kernel.invokeFunction(\n",
              "            'suggestCharts', [key], {});\n",
              "      } catch (error) {\n",
              "        console.error('Error during call to suggestCharts:', error);\n",
              "      }\n",
              "      quickchartButtonEl.classList.remove('colab-df-spinner');\n",
              "      quickchartButtonEl.classList.add('colab-df-quickchart-complete');\n",
              "    }\n",
              "    (() => {\n",
              "      let quickchartButtonEl =\n",
              "        document.querySelector('#df-a1e95261-abc1-4f7c-a93a-5f16cb564cda button');\n",
              "      quickchartButtonEl.style.display =\n",
              "        google.colab.kernel.accessAllowed ? 'block' : 'none';\n",
              "    })();\n",
              "  </script>\n",
              "</div>\n",
              "\n",
              "    </div>\n",
              "  </div>\n"
            ],
            "application/vnd.google.colaboratory.intrinsic+json": {
              "type": "dataframe",
              "variable_name": "tienda",
              "summary": "{\n  \"name\": \"tienda\",\n  \"rows\": 2359,\n  \"fields\": [\n    {\n      \"column\": \"Producto\",\n      \"properties\": {\n        \"dtype\": \"category\",\n        \"num_unique_values\": 51,\n        \"samples\": [\n          \"Guitarra ac\\u00fastica\",\n          \"Bal\\u00f3n de baloncesto\",\n          \"Smartwatch\"\n        ],\n        \"semantic_type\": \"\",\n        \"description\": \"\"\n      }\n    },\n    {\n      \"column\": \"Categor\\u00eda del Producto\",\n      \"properties\": {\n        \"dtype\": \"category\",\n        \"num_unique_values\": 8,\n        \"samples\": [\n          \"Muebles\",\n          \"Deportes y diversi\\u00f3n\",\n          \"Electr\\u00f3nicos\"\n        ],\n        \"semantic_type\": \"\",\n        \"description\": \"\"\n      }\n    },\n    {\n      \"column\": \"Precio\",\n      \"properties\": {\n        \"dtype\": \"number\",\n        \"std\": 614686.7653873172,\n        \"min\": 7600.0,\n        \"max\": 2977000.0,\n        \"num_unique_values\": 1937,\n        \"samples\": [\n          2499400.0,\n          14800.0,\n          80500.0\n        ],\n        \"semantic_type\": \"\",\n        \"description\": \"\"\n      }\n    },\n    {\n      \"column\": \"Costo de env\\u00edo\",\n      \"properties\": {\n        \"dtype\": \"number\",\n        \"std\": 32860.0017825605,\n        \"min\": 0.0,\n        \"max\": 160800.0,\n        \"num_unique_values\": 753,\n        \"samples\": [\n          117800.0,\n          54700.0,\n          45600.0\n        ],\n        \"semantic_type\": \"\",\n        \"description\": \"\"\n      }\n    },\n    {\n      \"column\": \"Fecha de Compra\",\n      \"properties\": {\n        \"dtype\": \"object\",\n        \"num_unique_values\": 1018,\n        \"samples\": [\n          \"15/09/2022\",\n          \"03/06/2020\",\n          \"06/11/2021\"\n        ],\n        \"semantic_type\": \"\",\n        \"description\": \"\"\n      }\n    },\n    {\n      \"column\": \"Vendedor\",\n      \"properties\": {\n        \"dtype\": \"category\",\n        \"num_unique_values\": 14,\n        \"samples\": [\n          \"Juliana Costa\",\n          \"Mariana Herrera\",\n          \"Pedro Gomez\"\n        ],\n        \"semantic_type\": \"\",\n        \"description\": \"\"\n      }\n    },\n    {\n      \"column\": \"Lugar de Compra\",\n      \"properties\": {\n        \"dtype\": \"category\",\n        \"num_unique_values\": 19,\n        \"samples\": [\n          \"Bogot\\u00e1\",\n          \"Pereira\",\n          \"Neiva\"\n        ],\n        \"semantic_type\": \"\",\n        \"description\": \"\"\n      }\n    },\n    {\n      \"column\": \"Calificaci\\u00f3n\",\n      \"properties\": {\n        \"dtype\": \"number\",\n        \"std\": 1,\n        \"min\": 1,\n        \"max\": 5,\n        \"num_unique_values\": 5,\n        \"samples\": [\n          1,\n          2,\n          5\n        ],\n        \"semantic_type\": \"\",\n        \"description\": \"\"\n      }\n    },\n    {\n      \"column\": \"M\\u00e9todo de pago\",\n      \"properties\": {\n        \"dtype\": \"category\",\n        \"num_unique_values\": 4,\n        \"samples\": [\n          \"Nequi\",\n          \"Tarjeta de d\\u00e9bito\",\n          \"Tarjeta de cr\\u00e9dito\"\n        ],\n        \"semantic_type\": \"\",\n        \"description\": \"\"\n      }\n    },\n    {\n      \"column\": \"Cantidad de cuotas\",\n      \"properties\": {\n        \"dtype\": \"number\",\n        \"std\": 2,\n        \"min\": 1,\n        \"max\": 24,\n        \"num_unique_values\": 15,\n        \"samples\": [\n          7,\n          14,\n          8\n        ],\n        \"semantic_type\": \"\",\n        \"description\": \"\"\n      }\n    },\n    {\n      \"column\": \"lat\",\n      \"properties\": {\n        \"dtype\": \"number\",\n        \"std\": 2.2874452492678627,\n        \"min\": -4.21528,\n        \"max\": 11.54444,\n        \"num_unique_values\": 19,\n        \"samples\": [\n          4.60971,\n          4.81333,\n          2.9273\n        ],\n        \"semantic_type\": \"\",\n        \"description\": \"\"\n      }\n    },\n    {\n      \"column\": \"lon\",\n      \"properties\": {\n        \"dtype\": \"number\",\n        \"std\": 1.2178272727088486,\n        \"min\": -77.28111,\n        \"max\": -67.9239,\n        \"num_unique_values\": 19,\n        \"samples\": [\n          -74.08175,\n          -75.69611,\n          -75.28189\n        ],\n        \"semantic_type\": \"\",\n        \"description\": \"\"\n      }\n    }\n  ]\n}"
            }
          },
          "metadata": {},
          "execution_count": 2
        }
      ],
      "source": [
        "import pandas as pd\n",
        "\n",
        "url = \"https://raw.githubusercontent.com/alura-es-cursos/challenge1-data-science-latam/refs/heads/main/base-de-datos-challenge1-latam/tienda_1%20.csv\"\n",
        "url2 = \"https://raw.githubusercontent.com/alura-es-cursos/challenge1-data-science-latam/refs/heads/main/base-de-datos-challenge1-latam/tienda_2.csv\"\n",
        "url3 = \"https://raw.githubusercontent.com/alura-es-cursos/challenge1-data-science-latam/refs/heads/main/base-de-datos-challenge1-latam/tienda_3.csv\"\n",
        "url4 = \"https://raw.githubusercontent.com/alura-es-cursos/challenge1-data-science-latam/refs/heads/main/base-de-datos-challenge1-latam/tienda_4.csv\"\n",
        "\n",
        "tienda = pd.read_csv(url)\n",
        "tienda2 = pd.read_csv(url2)\n",
        "tienda3 = pd.read_csv(url3)\n",
        "tienda4 = pd.read_csv(url4)\n",
        "\n",
        "tienda.head()"
      ]
    },
    {
      "cell_type": "markdown",
      "source": [
        "#1. Análisis de facturación\n",
        "\n"
      ],
      "metadata": {
        "id": "X62IW3KFUIYm"
      }
    },
    {
      "cell_type": "code",
      "source": [
        "import matplotlib.pyplot as plt\n",
        "import folium\n",
        "from folium.plugins import HeatMap\n",
        "import numpy as np\n",
        "import urllib.error\n",
        "from IPython.display import display"
      ],
      "metadata": {
        "id": "Z0ltyhlznyFP"
      },
      "execution_count": 3,
      "outputs": []
    },
    {
      "cell_type": "code",
      "source": [
        "# Muestra valores en formato monetario\n",
        "def format_currency(amount):\n",
        "    return '${:,.2f}'.format(amount)\n",
        "#Suma de ventas\n",
        "total_facturacion_tienda_1 = sum(tienda[\"Precio\"])\n",
        "total_facturacion_tienda_2 = sum(tienda2[\"Precio\"])\n",
        "total_facturacion_tienda_3 = sum(tienda3[\"Precio\"])\n",
        "total_facturacion_tienda_4 = sum(tienda4[\"Precio\"])\n",
        "\n",
        "#Imprime resultados por tienda\n",
        "print(f'Facturación Total Tienda 1: {format_currency(total_facturacion_tienda_1)}')\n",
        "print(f'Facturación Total Tienda 2: {format_currency(total_facturacion_tienda_2)}')\n",
        "print(f'Facturación Total Tienda 3: {format_currency(total_facturacion_tienda_3)}')\n",
        "print(f'Facturación Total Tienda 4: {format_currency(total_facturacion_tienda_4)}')\n"
      ],
      "metadata": {
        "id": "xykobSftV64I",
        "colab": {
          "base_uri": "https://localhost:8080/"
        },
        "outputId": "451d6dba-6fdc-4639-a732-5274edf9f540"
      },
      "execution_count": 109,
      "outputs": [
        {
          "output_type": "stream",
          "name": "stdout",
          "text": [
            "Facturación Total Tienda 1: $1,150,880,400.00\n",
            "Facturación Total Tienda 2: $1,116,343,500.00\n",
            "Facturación Total Tienda 3: $1,098,019,600.00\n",
            "Facturación Total Tienda 4: $1,038,375,700.00\n"
          ]
        }
      ]
    },
    {
      "cell_type": "code",
      "source": [
        "# Mostrar resultados en gráfico de barras\n",
        "\n",
        "# Nombres de las tiendas y datos\n",
        "tiendas = ['Tienda 1', 'Tienda 2', 'Tienda 3', 'Tienda 4']\n",
        "facturacion = [total_facturacion_tienda_1, total_facturacion_tienda_2, total_facturacion_tienda_3, total_facturacion_tienda_4]\n",
        "\n",
        "# Crear gráfico de barras\n",
        "plt.figure(figsize=(9, 5))\n",
        "numeros_etiquetas = [f\"${i:,.2f}\" for i in facturacion]\n",
        "plt.bar(tiendas, facturacion, label=numeros_etiquetas, color=['blue', 'green', 'yellow', 'red'])\n",
        "\n",
        "# Agregar título y etiquetas\n",
        "plt.title('Facturación Por Tienda')\n",
        "plt.ylabel('Facturación (en miles de millones)')\n",
        "plt.xlabel('Tiendas')\n",
        "plt.legend(title='Tiendas', loc='center left', bbox_to_anchor=(1, 0.86))\n",
        "# Agregar los valores sobre cada barra\n",
        "for i, valor in enumerate(facturacion):\n",
        "    plt.text(i, valor + 20000000, f\"${valor:,.2f}\", ha='center', fontsize=10)\n",
        "\n",
        "\n",
        "plt.tight_layout()\n",
        "plt.show()"
      ],
      "metadata": {
        "id": "KDyr8E71V3m-",
        "colab": {
          "base_uri": "https://localhost:8080/",
          "height": 507
        },
        "outputId": "4b9af76a-e91c-47ce-e2ca-784d91d31d6f"
      },
      "execution_count": 178,
      "outputs": [
        {
          "output_type": "display_data",
          "data": {
            "text/plain": [
              "<Figure size 900x500 with 1 Axes>"
            ],
            "image/png": "[encoded data removed]"
          },
          "metadata": {}
        }
      ]
    },
    {
      "cell_type": "markdown",
      "source": [
        "# 2. Ventas por categoría"
      ],
      "metadata": {
        "id": "2V_vcAPzWZmR"
      }
    },
    {
      "cell_type": "code",
      "source": [
        "Las_tiendas = [(tienda, 'Tienda 1'), (tienda2, 'Tienda 2'), (tienda3, 'Tienda 3'), (tienda4, 'Tienda 4')]\n",
        "\n",
        "for t in Las_tiendas:\n",
        "    print(f'\\n{t[1]} - Ventas por Categoría:\\n')\n",
        "\n",
        "# count para cantidad de ventas, sum para total vendido\n",
        "    ventas_por_categoria = (t[0].groupby(['Categoría del Producto']).agg({'Precio': ['count', 'sum']}).reset_index())\n",
        "\n",
        "    # Renombrar columnas para claridad\n",
        "    ventas_por_categoria.columns = ['Categoría Producto', 'Número de Ventas', 'Dinero Recaudado']\n",
        "\n",
        "    # Ordenar por total vendido, si quieres\n",
        "    ventas_por_categoria = ventas_por_categoria.sort_values(by='Dinero Recaudado', ascending=False)\n",
        "\n",
        "#Mostrar resultados\n",
        "    display(ventas_por_categoria.style.set_properties(**{'text-align': 'left'}).format({'Dinero Recaudado': '${:,.2f}'}))\n",
        "\n"
      ],
      "metadata": {
        "id": "yZR6cOjXYSk1",
        "collapsed": true,
        "outputId": "409b305a-6178-4028-ac64-0199611e035a",
        "colab": {
          "base_uri": "https://localhost:8080/",
          "height": 1000
        }
      },
      "execution_count": 44,
      "outputs": [
        {
          "output_type": "stream",
          "name": "stdout",
          "text": [
            "\n",
            "Tienda 1 - Ventas por Categoría:\n",
            "\n"
          ]
        },
        {
          "output_type": "display_data",
          "data": {
            "text/plain": [
              "<pandas.io.formats.style.Styler at 0x7d72b82c6310>"
            ],
            "text/html": [
              "<style type=\"text/css\">\n",
              "#T_99504_row0_col0, #T_99504_row0_col1, #T_99504_row0_col2, #T_99504_row1_col0, #T_99504_row1_col1, #T_99504_row1_col2, #T_99504_row2_col0, #T_99504_row2_col1, #T_99504_row2_col2, #T_99504_row3_col0, #T_99504_row3_col1, #T_99504_row3_col2, #T_99504_row4_col0, #T_99504_row4_col1, #T_99504_row4_col2, #T_99504_row5_col0, #T_99504_row5_col1, #T_99504_row5_col2, #T_99504_row6_col0, #T_99504_row6_col1, #T_99504_row6_col2, #T_99504_row7_col0, #T_99504_row7_col1, #T_99504_row7_col2 {\n",
              "  text-align: left;\n",
              "}\n",
              "</style>\n",
              "<table id=\"T_99504\" class=\"dataframe\">\n",
              "  <thead>\n",
              "    <tr>\n",
              "      <th class=\"blank level0\" >&nbsp;</th>\n",
              "      <th id=\"T_99504_level0_col0\" class=\"col_heading level0 col0\" >Categoría Producto</th>\n",
              "      <th id=\"T_99504_level0_col1\" class=\"col_heading level0 col1\" >Número de Ventas</th>\n",
              "      <th id=\"T_99504_level0_col2\" class=\"col_heading level0 col2\" >Dinero Recaudado</th>\n",
              "    </tr>\n",
              "  </thead>\n",
              "  <tbody>\n",
              "    <tr>\n",
              "      <th id=\"T_99504_level0_row0\" class=\"row_heading level0 row0\" >3</th>\n",
              "      <td id=\"T_99504_row0_col0\" class=\"data row0 col0\" >Electrónicos</td>\n",
              "      <td id=\"T_99504_row0_col1\" class=\"data row0 col1\" >448</td>\n",
              "      <td id=\"T_99504_row0_col2\" class=\"data row0 col2\" >$429,493,500.00</td>\n",
              "    </tr>\n",
              "    <tr>\n",
              "      <th id=\"T_99504_level0_row1\" class=\"row_heading level0 row1\" >2</th>\n",
              "      <td id=\"T_99504_row1_col0\" class=\"data row1 col0\" >Electrodomésticos</td>\n",
              "      <td id=\"T_99504_row1_col1\" class=\"data row1 col1\" >312</td>\n",
              "      <td id=\"T_99504_row1_col2\" class=\"data row1 col2\" >$363,685,200.00</td>\n",
              "    </tr>\n",
              "    <tr>\n",
              "      <th id=\"T_99504_level0_row2\" class=\"row_heading level0 row2\" >7</th>\n",
              "      <td id=\"T_99504_row2_col0\" class=\"data row2 col0\" >Muebles</td>\n",
              "      <td id=\"T_99504_row2_col1\" class=\"data row2 col1\" >465</td>\n",
              "      <td id=\"T_99504_row2_col2\" class=\"data row2 col2\" >$187,633,700.00</td>\n",
              "    </tr>\n",
              "    <tr>\n",
              "      <th id=\"T_99504_level0_row3\" class=\"row_heading level0 row3\" >4</th>\n",
              "      <td id=\"T_99504_row3_col0\" class=\"data row3 col0\" >Instrumentos musicales</td>\n",
              "      <td id=\"T_99504_row3_col1\" class=\"data row3 col1\" >182</td>\n",
              "      <td id=\"T_99504_row3_col2\" class=\"data row3 col2\" >$91,299,000.00</td>\n",
              "    </tr>\n",
              "    <tr>\n",
              "      <th id=\"T_99504_level0_row4\" class=\"row_heading level0 row4\" >1</th>\n",
              "      <td id=\"T_99504_row4_col0\" class=\"data row4 col0\" >Deportes y diversión</td>\n",
              "      <td id=\"T_99504_row4_col1\" class=\"data row4 col1\" >284</td>\n",
              "      <td id=\"T_99504_row4_col2\" class=\"data row4 col2\" >$39,290,000.00</td>\n",
              "    </tr>\n",
              "    <tr>\n",
              "      <th id=\"T_99504_level0_row5\" class=\"row_heading level0 row5\" >5</th>\n",
              "      <td id=\"T_99504_row5_col0\" class=\"data row5 col0\" >Juguetes</td>\n",
              "      <td id=\"T_99504_row5_col1\" class=\"data row5 col1\" >324</td>\n",
              "      <td id=\"T_99504_row5_col2\" class=\"data row5 col2\" >$17,995,700.00</td>\n",
              "    </tr>\n",
              "    <tr>\n",
              "      <th id=\"T_99504_level0_row6\" class=\"row_heading level0 row6\" >0</th>\n",
              "      <td id=\"T_99504_row6_col0\" class=\"data row6 col0\" >Artículos para el hogar</td>\n",
              "      <td id=\"T_99504_row6_col1\" class=\"data row6 col1\" >171</td>\n",
              "      <td id=\"T_99504_row6_col2\" class=\"data row6 col2\" >$12,698,400.00</td>\n",
              "    </tr>\n",
              "    <tr>\n",
              "      <th id=\"T_99504_level0_row7\" class=\"row_heading level0 row7\" >6</th>\n",
              "      <td id=\"T_99504_row7_col0\" class=\"data row7 col0\" >Libros</td>\n",
              "      <td id=\"T_99504_row7_col1\" class=\"data row7 col1\" >173</td>\n",
              "      <td id=\"T_99504_row7_col2\" class=\"data row7 col2\" >$8,784,900.00</td>\n",
              "    </tr>\n",
              "  </tbody>\n",
              "</table>\n"
            ]
          },
          "metadata": {}
        },
        {
          "output_type": "stream",
          "name": "stdout",
          "text": [
            "\n",
            "Tienda 2 - Ventas por Categoría:\n",
            "\n"
          ]
        },
        {
          "output_type": "display_data",
          "data": {
            "text/plain": [
              "<pandas.io.formats.style.Styler at 0x7d72ba75be10>"
            ],
            "text/html": [
              "<style type=\"text/css\">\n",
              "#T_a9b74_row0_col0, #T_a9b74_row0_col1, #T_a9b74_row0_col2, #T_a9b74_row1_col0, #T_a9b74_row1_col1, #T_a9b74_row1_col2, #T_a9b74_row2_col0, #T_a9b74_row2_col1, #T_a9b74_row2_col2, #T_a9b74_row3_col0, #T_a9b74_row3_col1, #T_a9b74_row3_col2, #T_a9b74_row4_col0, #T_a9b74_row4_col1, #T_a9b74_row4_col2, #T_a9b74_row5_col0, #T_a9b74_row5_col1, #T_a9b74_row5_col2, #T_a9b74_row6_col0, #T_a9b74_row6_col1, #T_a9b74_row6_col2, #T_a9b74_row7_col0, #T_a9b74_row7_col1, #T_a9b74_row7_col2 {\n",
              "  text-align: left;\n",
              "}\n",
              "</style>\n",
              "<table id=\"T_a9b74\" class=\"dataframe\">\n",
              "  <thead>\n",
              "    <tr>\n",
              "      <th class=\"blank level0\" >&nbsp;</th>\n",
              "      <th id=\"T_a9b74_level0_col0\" class=\"col_heading level0 col0\" >Categoría Producto</th>\n",
              "      <th id=\"T_a9b74_level0_col1\" class=\"col_heading level0 col1\" >Número de Ventas</th>\n",
              "      <th id=\"T_a9b74_level0_col2\" class=\"col_heading level0 col2\" >Dinero Recaudado</th>\n",
              "    </tr>\n",
              "  </thead>\n",
              "  <tbody>\n",
              "    <tr>\n",
              "      <th id=\"T_a9b74_level0_row0\" class=\"row_heading level0 row0\" >3</th>\n",
              "      <td id=\"T_a9b74_row0_col0\" class=\"data row0 col0\" >Electrónicos</td>\n",
              "      <td id=\"T_a9b74_row0_col1\" class=\"data row0 col1\" >422</td>\n",
              "      <td id=\"T_a9b74_row0_col2\" class=\"data row0 col2\" >$410,831,100.00</td>\n",
              "    </tr>\n",
              "    <tr>\n",
              "      <th id=\"T_a9b74_level0_row1\" class=\"row_heading level0 row1\" >2</th>\n",
              "      <td id=\"T_a9b74_row1_col0\" class=\"data row1 col0\" >Electrodomésticos</td>\n",
              "      <td id=\"T_a9b74_row1_col1\" class=\"data row1 col1\" >305</td>\n",
              "      <td id=\"T_a9b74_row1_col2\" class=\"data row1 col2\" >$348,567,800.00</td>\n",
              "    </tr>\n",
              "    <tr>\n",
              "      <th id=\"T_a9b74_level0_row2\" class=\"row_heading level0 row2\" >7</th>\n",
              "      <td id=\"T_a9b74_row2_col0\" class=\"data row2 col0\" >Muebles</td>\n",
              "      <td id=\"T_a9b74_row2_col1\" class=\"data row2 col1\" >442</td>\n",
              "      <td id=\"T_a9b74_row2_col2\" class=\"data row2 col2\" >$176,426,300.00</td>\n",
              "    </tr>\n",
              "    <tr>\n",
              "      <th id=\"T_a9b74_level0_row3\" class=\"row_heading level0 row3\" >4</th>\n",
              "      <td id=\"T_a9b74_row3_col0\" class=\"data row3 col0\" >Instrumentos musicales</td>\n",
              "      <td id=\"T_a9b74_row3_col1\" class=\"data row3 col1\" >224</td>\n",
              "      <td id=\"T_a9b74_row3_col2\" class=\"data row3 col2\" >$104,990,300.00</td>\n",
              "    </tr>\n",
              "    <tr>\n",
              "      <th id=\"T_a9b74_level0_row4\" class=\"row_heading level0 row4\" >1</th>\n",
              "      <td id=\"T_a9b74_row4_col0\" class=\"data row4 col0\" >Deportes y diversión</td>\n",
              "      <td id=\"T_a9b74_row4_col1\" class=\"data row4 col1\" >275</td>\n",
              "      <td id=\"T_a9b74_row4_col2\" class=\"data row4 col2\" >$34,744,500.00</td>\n",
              "    </tr>\n",
              "    <tr>\n",
              "      <th id=\"T_a9b74_level0_row5\" class=\"row_heading level0 row5\" >5</th>\n",
              "      <td id=\"T_a9b74_row5_col0\" class=\"data row5 col0\" >Juguetes</td>\n",
              "      <td id=\"T_a9b74_row5_col1\" class=\"data row5 col1\" >313</td>\n",
              "      <td id=\"T_a9b74_row5_col2\" class=\"data row5 col2\" >$15,945,400.00</td>\n",
              "    </tr>\n",
              "    <tr>\n",
              "      <th id=\"T_a9b74_level0_row6\" class=\"row_heading level0 row6\" >0</th>\n",
              "      <td id=\"T_a9b74_row6_col0\" class=\"data row6 col0\" >Artículos para el hogar</td>\n",
              "      <td id=\"T_a9b74_row6_col1\" class=\"data row6 col1\" >181</td>\n",
              "      <td id=\"T_a9b74_row6_col2\" class=\"data row6 col2\" >$14,746,900.00</td>\n",
              "    </tr>\n",
              "    <tr>\n",
              "      <th id=\"T_a9b74_level0_row7\" class=\"row_heading level0 row7\" >6</th>\n",
              "      <td id=\"T_a9b74_row7_col0\" class=\"data row7 col0\" >Libros</td>\n",
              "      <td id=\"T_a9b74_row7_col1\" class=\"data row7 col1\" >197</td>\n",
              "      <td id=\"T_a9b74_row7_col2\" class=\"data row7 col2\" >$10,091,200.00</td>\n",
              "    </tr>\n",
              "  </tbody>\n",
              "</table>\n"
            ]
          },
          "metadata": {}
        },
        {
          "output_type": "stream",
          "name": "stdout",
          "text": [
            "\n",
            "Tienda 3 - Ventas por Categoría:\n",
            "\n"
          ]
        },
        {
          "output_type": "display_data",
          "data": {
            "text/plain": [
              "<pandas.io.formats.style.Styler at 0x7d72ba7c0bd0>"
            ],
            "text/html": [
              "<style type=\"text/css\">\n",
              "#T_b4b44_row0_col0, #T_b4b44_row0_col1, #T_b4b44_row0_col2, #T_b4b44_row1_col0, #T_b4b44_row1_col1, #T_b4b44_row1_col2, #T_b4b44_row2_col0, #T_b4b44_row2_col1, #T_b4b44_row2_col2, #T_b4b44_row3_col0, #T_b4b44_row3_col1, #T_b4b44_row3_col2, #T_b4b44_row4_col0, #T_b4b44_row4_col1, #T_b4b44_row4_col2, #T_b4b44_row5_col0, #T_b4b44_row5_col1, #T_b4b44_row5_col2, #T_b4b44_row6_col0, #T_b4b44_row6_col1, #T_b4b44_row6_col2, #T_b4b44_row7_col0, #T_b4b44_row7_col1, #T_b4b44_row7_col2 {\n",
              "  text-align: left;\n",
              "}\n",
              "</style>\n",
              "<table id=\"T_b4b44\" class=\"dataframe\">\n",
              "  <thead>\n",
              "    <tr>\n",
              "      <th class=\"blank level0\" >&nbsp;</th>\n",
              "      <th id=\"T_b4b44_level0_col0\" class=\"col_heading level0 col0\" >Categoría Producto</th>\n",
              "      <th id=\"T_b4b44_level0_col1\" class=\"col_heading level0 col1\" >Número de Ventas</th>\n",
              "      <th id=\"T_b4b44_level0_col2\" class=\"col_heading level0 col2\" >Dinero Recaudado</th>\n",
              "    </tr>\n",
              "  </thead>\n",
              "  <tbody>\n",
              "    <tr>\n",
              "      <th id=\"T_b4b44_level0_row0\" class=\"row_heading level0 row0\" >3</th>\n",
              "      <td id=\"T_b4b44_row0_col0\" class=\"data row0 col0\" >Electrónicos</td>\n",
              "      <td id=\"T_b4b44_row0_col1\" class=\"data row0 col1\" >451</td>\n",
              "      <td id=\"T_b4b44_row0_col2\" class=\"data row0 col2\" >$410,775,800.00</td>\n",
              "    </tr>\n",
              "    <tr>\n",
              "      <th id=\"T_b4b44_level0_row1\" class=\"row_heading level0 row1\" >2</th>\n",
              "      <td id=\"T_b4b44_row1_col0\" class=\"data row1 col0\" >Electrodomésticos</td>\n",
              "      <td id=\"T_b4b44_row1_col1\" class=\"data row1 col1\" >278</td>\n",
              "      <td id=\"T_b4b44_row1_col2\" class=\"data row1 col2\" >$329,237,900.00</td>\n",
              "    </tr>\n",
              "    <tr>\n",
              "      <th id=\"T_b4b44_level0_row2\" class=\"row_heading level0 row2\" >7</th>\n",
              "      <td id=\"T_b4b44_row2_col0\" class=\"data row2 col0\" >Muebles</td>\n",
              "      <td id=\"T_b4b44_row2_col1\" class=\"data row2 col1\" >499</td>\n",
              "      <td id=\"T_b4b44_row2_col2\" class=\"data row2 col2\" >$201,072,100.00</td>\n",
              "    </tr>\n",
              "    <tr>\n",
              "      <th id=\"T_b4b44_level0_row3\" class=\"row_heading level0 row3\" >4</th>\n",
              "      <td id=\"T_b4b44_row3_col0\" class=\"data row3 col0\" >Instrumentos musicales</td>\n",
              "      <td id=\"T_b4b44_row3_col1\" class=\"data row3 col1\" >177</td>\n",
              "      <td id=\"T_b4b44_row3_col2\" class=\"data row3 col2\" >$77,380,900.00</td>\n",
              "    </tr>\n",
              "    <tr>\n",
              "      <th id=\"T_b4b44_level0_row4\" class=\"row_heading level0 row4\" >1</th>\n",
              "      <td id=\"T_b4b44_row4_col0\" class=\"data row4 col0\" >Deportes y diversión</td>\n",
              "      <td id=\"T_b4b44_row4_col1\" class=\"data row4 col1\" >277</td>\n",
              "      <td id=\"T_b4b44_row4_col2\" class=\"data row4 col2\" >$35,593,100.00</td>\n",
              "    </tr>\n",
              "    <tr>\n",
              "      <th id=\"T_b4b44_level0_row5\" class=\"row_heading level0 row5\" >5</th>\n",
              "      <td id=\"T_b4b44_row5_col0\" class=\"data row5 col0\" >Juguetes</td>\n",
              "      <td id=\"T_b4b44_row5_col1\" class=\"data row5 col1\" >315</td>\n",
              "      <td id=\"T_b4b44_row5_col2\" class=\"data row5 col2\" >$19,401,100.00</td>\n",
              "    </tr>\n",
              "    <tr>\n",
              "      <th id=\"T_b4b44_level0_row6\" class=\"row_heading level0 row6\" >0</th>\n",
              "      <td id=\"T_b4b44_row6_col0\" class=\"data row6 col0\" >Artículos para el hogar</td>\n",
              "      <td id=\"T_b4b44_row6_col1\" class=\"data row6 col1\" >177</td>\n",
              "      <td id=\"T_b4b44_row6_col2\" class=\"data row6 col2\" >$15,060,000.00</td>\n",
              "    </tr>\n",
              "    <tr>\n",
              "      <th id=\"T_b4b44_level0_row7\" class=\"row_heading level0 row7\" >6</th>\n",
              "      <td id=\"T_b4b44_row7_col0\" class=\"data row7 col0\" >Libros</td>\n",
              "      <td id=\"T_b4b44_row7_col1\" class=\"data row7 col1\" >185</td>\n",
              "      <td id=\"T_b4b44_row7_col2\" class=\"data row7 col2\" >$9,498,700.00</td>\n",
              "    </tr>\n",
              "  </tbody>\n",
              "</table>\n"
            ]
          },
          "metadata": {}
        },
        {
          "output_type": "stream",
          "name": "stdout",
          "text": [
            "\n",
            "Tienda 4 - Ventas por Categoría:\n",
            "\n"
          ]
        },
        {
          "output_type": "display_data",
          "data": {
            "text/plain": [
              "<pandas.io.formats.style.Styler at 0x7d72bb4814d0>"
            ],
            "text/html": [
              "<style type=\"text/css\">\n",
              "#T_3623d_row0_col0, #T_3623d_row0_col1, #T_3623d_row0_col2, #T_3623d_row1_col0, #T_3623d_row1_col1, #T_3623d_row1_col2, #T_3623d_row2_col0, #T_3623d_row2_col1, #T_3623d_row2_col2, #T_3623d_row3_col0, #T_3623d_row3_col1, #T_3623d_row3_col2, #T_3623d_row4_col0, #T_3623d_row4_col1, #T_3623d_row4_col2, #T_3623d_row5_col0, #T_3623d_row5_col1, #T_3623d_row5_col2, #T_3623d_row6_col0, #T_3623d_row6_col1, #T_3623d_row6_col2, #T_3623d_row7_col0, #T_3623d_row7_col1, #T_3623d_row7_col2 {\n",
              "  text-align: left;\n",
              "}\n",
              "</style>\n",
              "<table id=\"T_3623d\" class=\"dataframe\">\n",
              "  <thead>\n",
              "    <tr>\n",
              "      <th class=\"blank level0\" >&nbsp;</th>\n",
              "      <th id=\"T_3623d_level0_col0\" class=\"col_heading level0 col0\" >Categoría Producto</th>\n",
              "      <th id=\"T_3623d_level0_col1\" class=\"col_heading level0 col1\" >Número de Ventas</th>\n",
              "      <th id=\"T_3623d_level0_col2\" class=\"col_heading level0 col2\" >Dinero Recaudado</th>\n",
              "    </tr>\n",
              "  </thead>\n",
              "  <tbody>\n",
              "    <tr>\n",
              "      <th id=\"T_3623d_level0_row0\" class=\"row_heading level0 row0\" >3</th>\n",
              "      <td id=\"T_3623d_row0_col0\" class=\"data row0 col0\" >Electrónicos</td>\n",
              "      <td id=\"T_3623d_row0_col1\" class=\"data row0 col1\" >451</td>\n",
              "      <td id=\"T_3623d_row0_col2\" class=\"data row0 col2\" >$409,476,100.00</td>\n",
              "    </tr>\n",
              "    <tr>\n",
              "      <th id=\"T_3623d_level0_row1\" class=\"row_heading level0 row1\" >2</th>\n",
              "      <td id=\"T_3623d_row1_col0\" class=\"data row1 col0\" >Electrodomésticos</td>\n",
              "      <td id=\"T_3623d_row1_col1\" class=\"data row1 col1\" >254</td>\n",
              "      <td id=\"T_3623d_row1_col2\" class=\"data row1 col2\" >$283,260,200.00</td>\n",
              "    </tr>\n",
              "    <tr>\n",
              "      <th id=\"T_3623d_level0_row2\" class=\"row_heading level0 row2\" >7</th>\n",
              "      <td id=\"T_3623d_row2_col0\" class=\"data row2 col0\" >Muebles</td>\n",
              "      <td id=\"T_3623d_row2_col1\" class=\"data row2 col1\" >480</td>\n",
              "      <td id=\"T_3623d_row2_col2\" class=\"data row2 col2\" >$192,528,900.00</td>\n",
              "    </tr>\n",
              "    <tr>\n",
              "      <th id=\"T_3623d_level0_row3\" class=\"row_heading level0 row3\" >4</th>\n",
              "      <td id=\"T_3623d_row3_col0\" class=\"data row3 col0\" >Instrumentos musicales</td>\n",
              "      <td id=\"T_3623d_row3_col1\" class=\"data row3 col1\" >170</td>\n",
              "      <td id=\"T_3623d_row3_col2\" class=\"data row3 col2\" >$75,102,400.00</td>\n",
              "    </tr>\n",
              "    <tr>\n",
              "      <th id=\"T_3623d_level0_row4\" class=\"row_heading level0 row4\" >1</th>\n",
              "      <td id=\"T_3623d_row4_col0\" class=\"data row4 col0\" >Deportes y diversión</td>\n",
              "      <td id=\"T_3623d_row4_col1\" class=\"data row4 col1\" >277</td>\n",
              "      <td id=\"T_3623d_row4_col2\" class=\"data row4 col2\" >$33,350,100.00</td>\n",
              "    </tr>\n",
              "    <tr>\n",
              "      <th id=\"T_3623d_level0_row5\" class=\"row_heading level0 row5\" >5</th>\n",
              "      <td id=\"T_3623d_row5_col0\" class=\"data row5 col0\" >Juguetes</td>\n",
              "      <td id=\"T_3623d_row5_col1\" class=\"data row5 col1\" >338</td>\n",
              "      <td id=\"T_3623d_row5_col2\" class=\"data row5 col2\" >$20,262,200.00</td>\n",
              "    </tr>\n",
              "    <tr>\n",
              "      <th id=\"T_3623d_level0_row6\" class=\"row_heading level0 row6\" >0</th>\n",
              "      <td id=\"T_3623d_row6_col0\" class=\"data row6 col0\" >Artículos para el hogar</td>\n",
              "      <td id=\"T_3623d_row6_col1\" class=\"data row6 col1\" >201</td>\n",
              "      <td id=\"T_3623d_row6_col2\" class=\"data row6 col2\" >$15,074,500.00</td>\n",
              "    </tr>\n",
              "    <tr>\n",
              "      <th id=\"T_3623d_level0_row7\" class=\"row_heading level0 row7\" >6</th>\n",
              "      <td id=\"T_3623d_row7_col0\" class=\"data row7 col0\" >Libros</td>\n",
              "      <td id=\"T_3623d_row7_col1\" class=\"data row7 col1\" >187</td>\n",
              "      <td id=\"T_3623d_row7_col2\" class=\"data row7 col2\" >$9,321,300.00</td>\n",
              "    </tr>\n",
              "  </tbody>\n",
              "</table>\n"
            ]
          },
          "metadata": {}
        }
      ]
    },
    {
      "cell_type": "code",
      "source": [],
      "metadata": {
        "id": "j_AhEx2-CKdU"
      },
      "execution_count": 58,
      "outputs": []
    },
    {
      "cell_type": "markdown",
      "source": [
        "# 3. Calificación promedio de la tienda\n"
      ],
      "metadata": {
        "id": "Rq6tU_xSY3jk"
      }
    },
    {
      "cell_type": "code",
      "source": [
        "promedio_tienda1 = round(tienda[\"Calificación\"].mean(),2)\n",
        "promedio_tienda2 = round(tienda2[\"Calificación\"].mean(),2)\n",
        "promedio_tienda3 = round(tienda3[\"Calificación\"].mean(),2)\n",
        "promedio_tienda4 = round(tienda4[\"Calificación\"].mean(),2)\n",
        "\n",
        "print(f'La calificacion promedio de la tienda 1 es: {promedio_tienda1:,.2f}')\n",
        "print(f'La calificacion promedio de la tienda 2 es: {promedio_tienda2:,.2f}')\n",
        "print(f'La calificacion promedio de la tienda 3 es: {promedio_tienda3:,.2f}')\n",
        "print(f'La calificacion promedio de la tienda 4 es: {promedio_tienda4:,.2f}')"
      ],
      "metadata": {
        "id": "bh3jjjJwY5MU",
        "outputId": "93f123c8-0e7b-4080-8ec5-db9744b95a90",
        "colab": {
          "base_uri": "https://localhost:8080/"
        }
      },
      "execution_count": 128,
      "outputs": [
        {
          "output_type": "stream",
          "name": "stdout",
          "text": [
            "La calificacion promedio de la tienda 1 es: 3.98\n",
            "La calificacion promedio de la tienda 2 es: 4.04\n",
            "La calificacion promedio de la tienda 3 es: 4.05\n",
            "La calificacion promedio de la tienda 4 es: 4.00\n"
          ]
        }
      ]
    },
    {
      "cell_type": "code",
      "source": [],
      "metadata": {
        "id": "I0KkjPoTY88F"
      },
      "execution_count": null,
      "outputs": []
    },
    {
      "cell_type": "markdown",
      "source": [
        "# 4. Productos más y menos vendidos"
      ],
      "metadata": {
        "id": "DmNp1KPBZCm-"
      }
    },
    {
      "cell_type": "code",
      "source": [
        "# Suponiendo que tu DataFrame se llama 'tienda'\n",
        "producto_ventas = (\n",
        "    tienda.groupby('Producto')\n",
        "          .size()\n",
        "          .reset_index(name='Cantidad de Ventas')\n",
        "          .sort_values(by='Cantidad de Ventas', ascending=False)\n",
        ")\n",
        "\n",
        "producto_mas_vendido = producto_ventas.iloc[0]\n",
        "producto_menos_vendido = producto_ventas.iloc[-1]\n",
        "\n",
        "print(f\"📈 Producto más vendido: {producto_mas_vendido['Producto']} ({producto_mas_vendido['Cantidad de Ventas']} ventas)\")\n",
        "print(f\"📉 Producto menos vendido: {producto_menos_vendido['Producto']} ({producto_menos_vendido['Cantidad de Ventas']} ventas)\")\n"
      ],
      "metadata": {
        "id": "qoyjqijQZHfF",
        "outputId": "8556e513-b239-4a68-b0fb-4f6844fb8813",
        "colab": {
          "base_uri": "https://localhost:8080/"
        }
      },
      "execution_count": 182,
      "outputs": [
        {
          "output_type": "stream",
          "name": "stdout",
          "text": [
            "📈 Producto más vendido: Armario (60 ventas)\n",
            "📉 Producto menos vendido: Auriculares con micrófono (33 ventas)\n"
          ]
        }
      ]
    },
    {
      "cell_type": "code",
      "source": [
        "for df, nombre_tienda in Las_tiendas:\n",
        "    print(f\"\\n🛒 {nombre_tienda} - Productos más y menos vendidos:\\n\")\n",
        "\n",
        "    # Agrupar productos por nombre y contar cantidad de ventas\n",
        "    producto_ventas = (\n",
        "        df.groupby('Producto')\n",
        "          .size()\n",
        "          .reset_index(name='Cantidad de Ventas')\n",
        "          .sort_values(by='Cantidad de Ventas', ascending=False)\n",
        "    )\n",
        "\n",
        "    # Identificar los 5 productos mas y menos vendidos\n",
        "    mas_vendidos = producto_ventas.head(5)\n",
        "    menos_vendidos = producto_ventas.tail(5)\n",
        "\n",
        "    # Mostrar productos más vendidos\n",
        "    print(\"📈 Más vendido(s):\")\n",
        "    display(mas_vendidos.style.set_properties(**{'text-align': 'left'}))\n",
        "\n",
        "    # Mostrar productos menos vendidos\n",
        "    print(\"\\n📉 Menos vendido(s):\")\n",
        "    display(menos_vendidos.style.set_properties(**{'text-align': 'left'}))\n"
      ],
      "metadata": {
        "id": "0Sw3sd4IZIGW",
        "outputId": "3a2cb05e-679e-475e-8ce7-fbda8c59016a",
        "colab": {
          "base_uri": "https://localhost:8080/",
          "height": 1000
        }
      },
      "execution_count": 192,
      "outputs": [
        {
          "output_type": "stream",
          "name": "stdout",
          "text": [
            "\n",
            "🛒 Tienda 1 - Productos más y menos vendidos:\n",
            "\n",
            "📈 Más vendido(s):\n"
          ]
        },
        {
          "output_type": "display_data",
          "data": {
            "text/plain": [
              "<pandas.io.formats.style.Styler at 0x7d72b50a9850>"
            ],
            "text/html": [
              "<style type=\"text/css\">\n",
              "#T_14de5_row0_col0, #T_14de5_row0_col1, #T_14de5_row1_col0, #T_14de5_row1_col1, #T_14de5_row2_col0, #T_14de5_row2_col1, #T_14de5_row3_col0, #T_14de5_row3_col1, #T_14de5_row4_col0, #T_14de5_row4_col1 {\n",
              "  text-align: left;\n",
              "}\n",
              "</style>\n",
              "<table id=\"T_14de5\" class=\"dataframe\">\n",
              "  <thead>\n",
              "    <tr>\n",
              "      <th class=\"blank level0\" >&nbsp;</th>\n",
              "      <th id=\"T_14de5_level0_col0\" class=\"col_heading level0 col0\" >Producto</th>\n",
              "      <th id=\"T_14de5_level0_col1\" class=\"col_heading level0 col1\" >Cantidad de Ventas</th>\n",
              "    </tr>\n",
              "  </thead>\n",
              "  <tbody>\n",
              "    <tr>\n",
              "      <th id=\"T_14de5_level0_row0\" class=\"row_heading level0 row0\" >1</th>\n",
              "      <td id=\"T_14de5_row0_col0\" class=\"data row0 col0\" >Armario</td>\n",
              "      <td id=\"T_14de5_row0_col1\" class=\"data row0 col1\" >60</td>\n",
              "    </tr>\n",
              "    <tr>\n",
              "      <th id=\"T_14de5_level0_row1\" class=\"row_heading level0 row1\" >48</th>\n",
              "      <td id=\"T_14de5_row1_col0\" class=\"data row1 col0\" >TV LED UHD 4K</td>\n",
              "      <td id=\"T_14de5_row1_col1\" class=\"data row1 col1\" >60</td>\n",
              "    </tr>\n",
              "    <tr>\n",
              "      <th id=\"T_14de5_level0_row2\" class=\"row_heading level0 row2\" >33</th>\n",
              "      <td id=\"T_14de5_row2_col0\" class=\"data row2 col0\" >Microondas</td>\n",
              "      <td id=\"T_14de5_row2_col1\" class=\"data row2 col1\" >60</td>\n",
              "    </tr>\n",
              "    <tr>\n",
              "      <th id=\"T_14de5_level0_row3\" class=\"row_heading level0 row3\" >40</th>\n",
              "      <td id=\"T_14de5_row3_col0\" class=\"data row3 col0\" >Secadora de ropa</td>\n",
              "      <td id=\"T_14de5_row3_col1\" class=\"data row3 col1\" >58</td>\n",
              "    </tr>\n",
              "    <tr>\n",
              "      <th id=\"T_14de5_level0_row4\" class=\"row_heading level0 row4\" >32</th>\n",
              "      <td id=\"T_14de5_row4_col0\" class=\"data row4 col0\" >Mesa de noche</td>\n",
              "      <td id=\"T_14de5_row4_col1\" class=\"data row4 col1\" >56</td>\n",
              "    </tr>\n",
              "  </tbody>\n",
              "</table>\n"
            ]
          },
          "metadata": {}
        },
        {
          "output_type": "stream",
          "name": "stdout",
          "text": [
            "\n",
            "📉 Menos vendido(s):\n"
          ]
        },
        {
          "output_type": "display_data",
          "data": {
            "text/plain": [
              "<pandas.io.formats.style.Styler at 0x7d72b6ecb5d0>"
            ],
            "text/html": [
              "<style type=\"text/css\">\n",
              "#T_4eb09_row0_col0, #T_4eb09_row0_col1, #T_4eb09_row1_col0, #T_4eb09_row1_col1, #T_4eb09_row2_col0, #T_4eb09_row2_col1, #T_4eb09_row3_col0, #T_4eb09_row3_col1, #T_4eb09_row4_col0, #T_4eb09_row4_col1 {\n",
              "  text-align: left;\n",
              "}\n",
              "</style>\n",
              "<table id=\"T_4eb09\" class=\"dataframe\">\n",
              "  <thead>\n",
              "    <tr>\n",
              "      <th class=\"blank level0\" >&nbsp;</th>\n",
              "      <th id=\"T_4eb09_level0_col0\" class=\"col_heading level0 col0\" >Producto</th>\n",
              "      <th id=\"T_4eb09_level0_col1\" class=\"col_heading level0 col1\" >Cantidad de Ventas</th>\n",
              "    </tr>\n",
              "  </thead>\n",
              "  <tbody>\n",
              "    <tr>\n",
              "      <th id=\"T_4eb09_level0_row0\" class=\"row_heading level0 row0\" >34</th>\n",
              "      <td id=\"T_4eb09_row0_col0\" class=\"data row0 col0\" >Mochila</td>\n",
              "      <td id=\"T_4eb09_row0_col1\" class=\"data row0 col1\" >39</td>\n",
              "    </tr>\n",
              "    <tr>\n",
              "      <th id=\"T_4eb09_level0_row1\" class=\"row_heading level0 row1\" >38</th>\n",
              "      <td id=\"T_4eb09_row1_col0\" class=\"data row1 col0\" >Pandereta</td>\n",
              "      <td id=\"T_4eb09_row1_col1\" class=\"data row1 col1\" >36</td>\n",
              "    </tr>\n",
              "    <tr>\n",
              "      <th id=\"T_4eb09_level0_row2\" class=\"row_heading level0 row2\" >37</th>\n",
              "      <td id=\"T_4eb09_row2_col0\" class=\"data row2 col0\" >Olla de presión</td>\n",
              "      <td id=\"T_4eb09_row2_col1\" class=\"data row2 col1\" >35</td>\n",
              "    </tr>\n",
              "    <tr>\n",
              "      <th id=\"T_4eb09_level0_row3\" class=\"row_heading level0 row3\" >13</th>\n",
              "      <td id=\"T_4eb09_row3_col0\" class=\"data row3 col0\" >Celular ABXY</td>\n",
              "      <td id=\"T_4eb09_row3_col1\" class=\"data row3 col1\" >33</td>\n",
              "    </tr>\n",
              "    <tr>\n",
              "      <th id=\"T_4eb09_level0_row4\" class=\"row_heading level0 row4\" >4</th>\n",
              "      <td id=\"T_4eb09_row4_col0\" class=\"data row4 col0\" >Auriculares con micrófono</td>\n",
              "      <td id=\"T_4eb09_row4_col1\" class=\"data row4 col1\" >33</td>\n",
              "    </tr>\n",
              "  </tbody>\n",
              "</table>\n"
            ]
          },
          "metadata": {}
        },
        {
          "output_type": "stream",
          "name": "stdout",
          "text": [
            "\n",
            "🛒 Tienda 2 - Productos más y menos vendidos:\n",
            "\n",
            "📈 Más vendido(s):\n"
          ]
        },
        {
          "output_type": "display_data",
          "data": {
            "text/plain": [
              "<pandas.io.formats.style.Styler at 0x7d72b4f24310>"
            ],
            "text/html": [
              "<style type=\"text/css\">\n",
              "#T_63d7d_row0_col0, #T_63d7d_row0_col1, #T_63d7d_row1_col0, #T_63d7d_row1_col1, #T_63d7d_row2_col0, #T_63d7d_row2_col1, #T_63d7d_row3_col0, #T_63d7d_row3_col1, #T_63d7d_row4_col0, #T_63d7d_row4_col1 {\n",
              "  text-align: left;\n",
              "}\n",
              "</style>\n",
              "<table id=\"T_63d7d\" class=\"dataframe\">\n",
              "  <thead>\n",
              "    <tr>\n",
              "      <th class=\"blank level0\" >&nbsp;</th>\n",
              "      <th id=\"T_63d7d_level0_col0\" class=\"col_heading level0 col0\" >Producto</th>\n",
              "      <th id=\"T_63d7d_level0_col1\" class=\"col_heading level0 col1\" >Cantidad de Ventas</th>\n",
              "    </tr>\n",
              "  </thead>\n",
              "  <tbody>\n",
              "    <tr>\n",
              "      <th id=\"T_63d7d_level0_row0\" class=\"row_heading level0 row0\" >24</th>\n",
              "      <td id=\"T_63d7d_row0_col0\" class=\"data row0 col0\" >Iniciando en programación</td>\n",
              "      <td id=\"T_63d7d_row0_col1\" class=\"data row0 col1\" >65</td>\n",
              "    </tr>\n",
              "    <tr>\n",
              "      <th id=\"T_63d7d_level0_row1\" class=\"row_heading level0 row1\" >33</th>\n",
              "      <td id=\"T_63d7d_row1_col0\" class=\"data row1 col0\" >Microondas</td>\n",
              "      <td id=\"T_63d7d_row1_col1\" class=\"data row1 col1\" >62</td>\n",
              "    </tr>\n",
              "    <tr>\n",
              "      <th id=\"T_63d7d_level0_row2\" class=\"row_heading level0 row2\" >7</th>\n",
              "      <td id=\"T_63d7d_row2_col0\" class=\"data row2 col0\" >Batería</td>\n",
              "      <td id=\"T_63d7d_row2_col1\" class=\"data row2 col1\" >61</td>\n",
              "    </tr>\n",
              "    <tr>\n",
              "      <th id=\"T_63d7d_level0_row3\" class=\"row_heading level0 row3\" >38</th>\n",
              "      <td id=\"T_63d7d_row3_col0\" class=\"data row3 col0\" >Pandereta</td>\n",
              "      <td id=\"T_63d7d_row3_col1\" class=\"data row3 col1\" >58</td>\n",
              "    </tr>\n",
              "    <tr>\n",
              "      <th id=\"T_63d7d_level0_row4\" class=\"row_heading level0 row4\" >21</th>\n",
              "      <td id=\"T_63d7d_row4_col0\" class=\"data row4 col0\" >Guitarra acústica</td>\n",
              "      <td id=\"T_63d7d_row4_col1\" class=\"data row4 col1\" >58</td>\n",
              "    </tr>\n",
              "  </tbody>\n",
              "</table>\n"
            ]
          },
          "metadata": {}
        },
        {
          "output_type": "stream",
          "name": "stdout",
          "text": [
            "\n",
            "📉 Menos vendido(s):\n"
          ]
        },
        {
          "output_type": "display_data",
          "data": {
            "text/plain": [
              "<pandas.io.formats.style.Styler at 0x7d72b5219310>"
            ],
            "text/html": [
              "<style type=\"text/css\">\n",
              "#T_d8f35_row0_col0, #T_d8f35_row0_col1, #T_d8f35_row1_col0, #T_d8f35_row1_col1, #T_d8f35_row2_col0, #T_d8f35_row2_col1, #T_d8f35_row3_col0, #T_d8f35_row3_col1, #T_d8f35_row4_col0, #T_d8f35_row4_col1 {\n",
              "  text-align: left;\n",
              "}\n",
              "</style>\n",
              "<table id=\"T_d8f35\" class=\"dataframe\">\n",
              "  <thead>\n",
              "    <tr>\n",
              "      <th class=\"blank level0\" >&nbsp;</th>\n",
              "      <th id=\"T_d8f35_level0_col0\" class=\"col_heading level0 col0\" >Producto</th>\n",
              "      <th id=\"T_d8f35_level0_col1\" class=\"col_heading level0 col1\" >Cantidad de Ventas</th>\n",
              "    </tr>\n",
              "  </thead>\n",
              "  <tbody>\n",
              "    <tr>\n",
              "      <th id=\"T_d8f35_level0_row0\" class=\"row_heading level0 row0\" >3</th>\n",
              "      <td id=\"T_d8f35_row0_col0\" class=\"data row0 col0\" >Auriculares</td>\n",
              "      <td id=\"T_d8f35_row0_col1\" class=\"data row0 col1\" >37</td>\n",
              "    </tr>\n",
              "    <tr>\n",
              "      <th id=\"T_d8f35_level0_row1\" class=\"row_heading level0 row1\" >44</th>\n",
              "      <td id=\"T_d8f35_row1_col0\" class=\"data row1 col0\" >Sillón</td>\n",
              "      <td id=\"T_d8f35_row1_col1\" class=\"data row1 col1\" >35</td>\n",
              "    </tr>\n",
              "    <tr>\n",
              "      <th id=\"T_d8f35_level0_row2\" class=\"row_heading level0 row2\" >23</th>\n",
              "      <td id=\"T_d8f35_row2_col0\" class=\"data row2 col0\" >Impresora</td>\n",
              "      <td id=\"T_d8f35_row2_col1\" class=\"data row2 col1\" >34</td>\n",
              "    </tr>\n",
              "    <tr>\n",
              "      <th id=\"T_d8f35_level0_row3\" class=\"row_heading level0 row3\" >31</th>\n",
              "      <td id=\"T_d8f35_row3_col0\" class=\"data row3 col0\" >Mesa de comedor</td>\n",
              "      <td id=\"T_d8f35_row3_col1\" class=\"data row3 col1\" >34</td>\n",
              "    </tr>\n",
              "    <tr>\n",
              "      <th id=\"T_d8f35_level0_row4\" class=\"row_heading level0 row4\" >26</th>\n",
              "      <td id=\"T_d8f35_row4_col0\" class=\"data row4 col0\" >Juego de mesa</td>\n",
              "      <td id=\"T_d8f35_row4_col1\" class=\"data row4 col1\" >32</td>\n",
              "    </tr>\n",
              "  </tbody>\n",
              "</table>\n"
            ]
          },
          "metadata": {}
        },
        {
          "output_type": "stream",
          "name": "stdout",
          "text": [
            "\n",
            "🛒 Tienda 3 - Productos más y menos vendidos:\n",
            "\n",
            "📈 Más vendido(s):\n"
          ]
        },
        {
          "output_type": "display_data",
          "data": {
            "text/plain": [
              "<pandas.io.formats.style.Styler at 0x7d72b50ed910>"
            ],
            "text/html": [
              "<style type=\"text/css\">\n",
              "#T_637a1_row0_col0, #T_637a1_row0_col1, #T_637a1_row1_col0, #T_637a1_row1_col1, #T_637a1_row2_col0, #T_637a1_row2_col1, #T_637a1_row3_col0, #T_637a1_row3_col1, #T_637a1_row4_col0, #T_637a1_row4_col1 {\n",
              "  text-align: left;\n",
              "}\n",
              "</style>\n",
              "<table id=\"T_637a1\" class=\"dataframe\">\n",
              "  <thead>\n",
              "    <tr>\n",
              "      <th class=\"blank level0\" >&nbsp;</th>\n",
              "      <th id=\"T_637a1_level0_col0\" class=\"col_heading level0 col0\" >Producto</th>\n",
              "      <th id=\"T_637a1_level0_col1\" class=\"col_heading level0 col1\" >Cantidad de Ventas</th>\n",
              "    </tr>\n",
              "  </thead>\n",
              "  <tbody>\n",
              "    <tr>\n",
              "      <th id=\"T_637a1_level0_row0\" class=\"row_heading level0 row0\" >27</th>\n",
              "      <td id=\"T_637a1_row0_col0\" class=\"data row0 col0\" >Kit de bancas</td>\n",
              "      <td id=\"T_637a1_row0_col1\" class=\"data row0 col1\" >57</td>\n",
              "    </tr>\n",
              "    <tr>\n",
              "      <th id=\"T_637a1_level0_row1\" class=\"row_heading level0 row1\" >31</th>\n",
              "      <td id=\"T_637a1_row1_col0\" class=\"data row1 col0\" >Mesa de comedor</td>\n",
              "      <td id=\"T_637a1_row1_col1\" class=\"data row1 col1\" >56</td>\n",
              "    </tr>\n",
              "    <tr>\n",
              "      <th id=\"T_637a1_level0_row2\" class=\"row_heading level0 row2\" >11</th>\n",
              "      <td id=\"T_637a1_row2_col0\" class=\"data row2 col0\" >Cama king</td>\n",
              "      <td id=\"T_637a1_row2_col1\" class=\"data row2 col1\" >56</td>\n",
              "    </tr>\n",
              "    <tr>\n",
              "      <th id=\"T_637a1_level0_row3\" class=\"row_heading level0 row3\" >41</th>\n",
              "      <td id=\"T_637a1_row3_col0\" class=\"data row3 col0\" >Set de ollas</td>\n",
              "      <td id=\"T_637a1_row3_col1\" class=\"data row3 col1\" >55</td>\n",
              "    </tr>\n",
              "    <tr>\n",
              "      <th id=\"T_637a1_level0_row4\" class=\"row_heading level0 row4\" >32</th>\n",
              "      <td id=\"T_637a1_row4_col0\" class=\"data row4 col0\" >Mesa de noche</td>\n",
              "      <td id=\"T_637a1_row4_col1\" class=\"data row4 col1\" >55</td>\n",
              "    </tr>\n",
              "  </tbody>\n",
              "</table>\n"
            ]
          },
          "metadata": {}
        },
        {
          "output_type": "stream",
          "name": "stdout",
          "text": [
            "\n",
            "📉 Menos vendido(s):\n"
          ]
        },
        {
          "output_type": "display_data",
          "data": {
            "text/plain": [
              "<pandas.io.formats.style.Styler at 0x7d72b4f33210>"
            ],
            "text/html": [
              "<style type=\"text/css\">\n",
              "#T_2c7ea_row0_col0, #T_2c7ea_row0_col1, #T_2c7ea_row1_col0, #T_2c7ea_row1_col1, #T_2c7ea_row2_col0, #T_2c7ea_row2_col1, #T_2c7ea_row3_col0, #T_2c7ea_row3_col1, #T_2c7ea_row4_col0, #T_2c7ea_row4_col1 {\n",
              "  text-align: left;\n",
              "}\n",
              "</style>\n",
              "<table id=\"T_2c7ea\" class=\"dataframe\">\n",
              "  <thead>\n",
              "    <tr>\n",
              "      <th class=\"blank level0\" >&nbsp;</th>\n",
              "      <th id=\"T_2c7ea_level0_col0\" class=\"col_heading level0 col0\" >Producto</th>\n",
              "      <th id=\"T_2c7ea_level0_col1\" class=\"col_heading level0 col1\" >Cantidad de Ventas</th>\n",
              "    </tr>\n",
              "  </thead>\n",
              "  <tbody>\n",
              "    <tr>\n",
              "      <th id=\"T_2c7ea_level0_row0\" class=\"row_heading level0 row0\" >22</th>\n",
              "      <td id=\"T_2c7ea_row0_col0\" class=\"data row0 col0\" >Guitarra eléctrica</td>\n",
              "      <td id=\"T_2c7ea_row0_col1\" class=\"data row0 col1\" >38</td>\n",
              "    </tr>\n",
              "    <tr>\n",
              "      <th id=\"T_2c7ea_level0_row1\" class=\"row_heading level0 row1\" >34</th>\n",
              "      <td id=\"T_2c7ea_row1_col0\" class=\"data row1 col0\" >Mochila</td>\n",
              "      <td id=\"T_2c7ea_row1_col1\" class=\"data row1 col1\" >36</td>\n",
              "    </tr>\n",
              "    <tr>\n",
              "      <th id=\"T_2c7ea_level0_row2\" class=\"row_heading level0 row2\" >33</th>\n",
              "      <td id=\"T_2c7ea_row2_col0\" class=\"data row2 col0\" >Microondas</td>\n",
              "      <td id=\"T_2c7ea_row2_col1\" class=\"data row2 col1\" >36</td>\n",
              "    </tr>\n",
              "    <tr>\n",
              "      <th id=\"T_2c7ea_level0_row3\" class=\"row_heading level0 row3\" >42</th>\n",
              "      <td id=\"T_2c7ea_row3_col0\" class=\"data row3 col0\" >Set de vasos</td>\n",
              "      <td id=\"T_2c7ea_row3_col1\" class=\"data row3 col1\" >36</td>\n",
              "    </tr>\n",
              "    <tr>\n",
              "      <th id=\"T_2c7ea_level0_row4\" class=\"row_heading level0 row4\" >9</th>\n",
              "      <td id=\"T_2c7ea_row4_col0\" class=\"data row4 col0\" >Bloques de construcción</td>\n",
              "      <td id=\"T_2c7ea_row4_col1\" class=\"data row4 col1\" >35</td>\n",
              "    </tr>\n",
              "  </tbody>\n",
              "</table>\n"
            ]
          },
          "metadata": {}
        },
        {
          "output_type": "stream",
          "name": "stdout",
          "text": [
            "\n",
            "🛒 Tienda 4 - Productos más y menos vendidos:\n",
            "\n",
            "📈 Más vendido(s):\n"
          ]
        },
        {
          "output_type": "display_data",
          "data": {
            "text/plain": [
              "<pandas.io.formats.style.Styler at 0x7d72b5212dd0>"
            ],
            "text/html": [
              "<style type=\"text/css\">\n",
              "#T_fda8b_row0_col0, #T_fda8b_row0_col1, #T_fda8b_row1_col0, #T_fda8b_row1_col1, #T_fda8b_row2_col0, #T_fda8b_row2_col1, #T_fda8b_row3_col0, #T_fda8b_row3_col1, #T_fda8b_row4_col0, #T_fda8b_row4_col1 {\n",
              "  text-align: left;\n",
              "}\n",
              "</style>\n",
              "<table id=\"T_fda8b\" class=\"dataframe\">\n",
              "  <thead>\n",
              "    <tr>\n",
              "      <th class=\"blank level0\" >&nbsp;</th>\n",
              "      <th id=\"T_fda8b_level0_col0\" class=\"col_heading level0 col0\" >Producto</th>\n",
              "      <th id=\"T_fda8b_level0_col1\" class=\"col_heading level0 col1\" >Cantidad de Ventas</th>\n",
              "    </tr>\n",
              "  </thead>\n",
              "  <tbody>\n",
              "    <tr>\n",
              "      <th id=\"T_fda8b_level0_row0\" class=\"row_heading level0 row0\" >10</th>\n",
              "      <td id=\"T_fda8b_row0_col0\" class=\"data row0 col0\" >Cama box</td>\n",
              "      <td id=\"T_fda8b_row0_col1\" class=\"data row0 col1\" >62</td>\n",
              "    </tr>\n",
              "    <tr>\n",
              "      <th id=\"T_fda8b_level0_row1\" class=\"row_heading level0 row1\" >15</th>\n",
              "      <td id=\"T_fda8b_row1_col0\" class=\"data row1 col0\" >Cubertería</td>\n",
              "      <td id=\"T_fda8b_row1_col1\" class=\"data row1 col1\" >59</td>\n",
              "    </tr>\n",
              "    <tr>\n",
              "      <th id=\"T_fda8b_level0_row2\" class=\"row_heading level0 row2\" >11</th>\n",
              "      <td id=\"T_fda8b_row2_col0\" class=\"data row2 col0\" >Cama king</td>\n",
              "      <td id=\"T_fda8b_row2_col1\" class=\"data row2 col1\" >56</td>\n",
              "    </tr>\n",
              "    <tr>\n",
              "      <th id=\"T_fda8b_level0_row3\" class=\"row_heading level0 row3\" >18</th>\n",
              "      <td id=\"T_fda8b_row3_col0\" class=\"data row3 col0\" >Dashboards con Power BI</td>\n",
              "      <td id=\"T_fda8b_row3_col1\" class=\"data row3 col1\" >56</td>\n",
              "    </tr>\n",
              "    <tr>\n",
              "      <th id=\"T_fda8b_level0_row4\" class=\"row_heading level0 row4\" >12</th>\n",
              "      <td id=\"T_fda8b_row4_col0\" class=\"data row4 col0\" >Carrito de control remoto</td>\n",
              "      <td id=\"T_fda8b_row4_col1\" class=\"data row4 col1\" >55</td>\n",
              "    </tr>\n",
              "  </tbody>\n",
              "</table>\n"
            ]
          },
          "metadata": {}
        },
        {
          "output_type": "stream",
          "name": "stdout",
          "text": [
            "\n",
            "📉 Menos vendido(s):\n"
          ]
        },
        {
          "output_type": "display_data",
          "data": {
            "text/plain": [
              "<pandas.io.formats.style.Styler at 0x7d72b5212dd0>"
            ],
            "text/html": [
              "<style type=\"text/css\">\n",
              "#T_c797d_row0_col0, #T_c797d_row0_col1, #T_c797d_row1_col0, #T_c797d_row1_col1, #T_c797d_row2_col0, #T_c797d_row2_col1, #T_c797d_row3_col0, #T_c797d_row3_col1, #T_c797d_row4_col0, #T_c797d_row4_col1 {\n",
              "  text-align: left;\n",
              "}\n",
              "</style>\n",
              "<table id=\"T_c797d\" class=\"dataframe\">\n",
              "  <thead>\n",
              "    <tr>\n",
              "      <th class=\"blank level0\" >&nbsp;</th>\n",
              "      <th id=\"T_c797d_level0_col0\" class=\"col_heading level0 col0\" >Producto</th>\n",
              "      <th id=\"T_c797d_level0_col1\" class=\"col_heading level0 col1\" >Cantidad de Ventas</th>\n",
              "    </tr>\n",
              "  </thead>\n",
              "  <tbody>\n",
              "    <tr>\n",
              "      <th id=\"T_c797d_level0_row0\" class=\"row_heading level0 row0\" >14</th>\n",
              "      <td id=\"T_c797d_row0_col0\" class=\"data row0 col0\" >Ciencia de datos con Python</td>\n",
              "      <td id=\"T_c797d_row0_col1\" class=\"data row0 col1\" >38</td>\n",
              "    </tr>\n",
              "    <tr>\n",
              "      <th id=\"T_c797d_level0_row1\" class=\"row_heading level0 row1\" >39</th>\n",
              "      <td id=\"T_c797d_row1_col0\" class=\"data row1 col0\" >Refrigerador</td>\n",
              "      <td id=\"T_c797d_row1_col1\" class=\"data row1 col1\" >38</td>\n",
              "    </tr>\n",
              "    <tr>\n",
              "      <th id=\"T_c797d_level0_row2\" class=\"row_heading level0 row2\" >21</th>\n",
              "      <td id=\"T_c797d_row2_col0\" class=\"data row2 col0\" >Guitarra acústica</td>\n",
              "      <td id=\"T_c797d_row2_col1\" class=\"data row2 col1\" >37</td>\n",
              "    </tr>\n",
              "    <tr>\n",
              "      <th id=\"T_c797d_level0_row3\" class=\"row_heading level0 row3\" >1</th>\n",
              "      <td id=\"T_c797d_row3_col0\" class=\"data row3 col0\" >Armario</td>\n",
              "      <td id=\"T_c797d_row3_col1\" class=\"data row3 col1\" >34</td>\n",
              "    </tr>\n",
              "    <tr>\n",
              "      <th id=\"T_c797d_level0_row4\" class=\"row_heading level0 row4\" >22</th>\n",
              "      <td id=\"T_c797d_row4_col0\" class=\"data row4 col0\" >Guitarra eléctrica</td>\n",
              "      <td id=\"T_c797d_row4_col1\" class=\"data row4 col1\" >33</td>\n",
              "    </tr>\n",
              "  </tbody>\n",
              "</table>\n"
            ]
          },
          "metadata": {}
        }
      ]
    },
    {
      "cell_type": "markdown",
      "source": [
        "# 5. Envío promedio por tienda"
      ],
      "metadata": {
        "id": "Fl0cGi3bZKqU"
      }
    },
    {
      "cell_type": "code",
      "source": [
        "promedio_costo_envio_tienda1 = round(tienda['Costo de envío'].mean(),2)\n",
        "print(f'El promedio del costo de envio de la tienda 1 es: {format_currency(promedio_costo_envio_tienda1)}')\n",
        "\n",
        "\n",
        "\n"
      ],
      "metadata": {
        "id": "S2JeaCykZNy9",
        "outputId": "895b486e-663d-4d59-f9d2-df4ed3ebd8b9",
        "colab": {
          "base_uri": "https://localhost:8080/"
        }
      },
      "execution_count": 195,
      "outputs": [
        {
          "output_type": "stream",
          "name": "stdout",
          "text": [
            "El promedio del costo de envio de la tienda 1 es: $26,018.61\n"
          ]
        }
      ]
    },
    {
      "cell_type": "code",
      "source": [],
      "metadata": {
        "id": "0tSdCie9ZQlt"
      },
      "execution_count": null,
      "outputs": []
    }
  ]
}